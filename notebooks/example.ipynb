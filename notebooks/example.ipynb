{
 "cells": [
  {
   "cell_type": "code",
   "execution_count": 1,
   "metadata": {},
   "outputs": [],
   "source": [
    "from torch.utils.data import DataLoader\n",
    "import torch\n",
    "\n",
    "import minari\n",
    "import numpy as np\n",
    "from typing import Dict\n",
    "\n",
    "import os\n",
    "import sys\n",
    "sys.path.append(\"..\")\n",
    "from algorithms.utils.wrapper_gym import get_env\n",
    "from algorithms.utils.dataset import qlearning_dataset, ReplayBuffer\n"
   ]
  },
  {
   "cell_type": "code",
   "execution_count": 2,
   "metadata": {},
   "outputs": [],
   "source": [
    "os.environ[\"XLA_PYTHON_CLIENT_PREALLOCATE\"] = \"false\""
   ]
  },
  {
   "cell_type": "code",
   "execution_count": 3,
   "metadata": {},
   "outputs": [],
   "source": [
    "os.environ[\"MINARI_DATASETS_PATH\"] = \"/home/luanagbmartins/Documents/CEIA/offline_to_online/CORL/datasets\""
   ]
  },
  {
   "cell_type": "code",
   "execution_count": 4,
   "metadata": {},
   "outputs": [],
   "source": [
    "DATSET_NAME = \"playground/Go1JoystickRoughTerrain-expert-v0\"\n",
    "ENV_NAME = \"Go1JoystickRoughTerrain\"\n",
    "\n",
    "DEVICE = \"cuda\""
   ]
  },
  {
   "cell_type": "code",
   "execution_count": 5,
   "metadata": {},
   "outputs": [],
   "source": [
    "dataset = minari.load_dataset(\"playground/Go1JoystickRoughTerrain-expert-v0\")"
   ]
  },
  {
   "cell_type": "code",
   "execution_count": 6,
   "metadata": {},
   "outputs": [],
   "source": [
    "qdataset = qlearning_dataset(dataset)\n",
    "\n",
    "# Create the replay buffer and dataloader\n",
    "replay_buffer = ReplayBuffer(qdataset)\n",
    "dataloader = DataLoader(replay_buffer, batch_size=128, shuffle=True)\n",
    "\n",
    "# Now you can iterate over the dataloader\n",
    "batch = next(iter(dataloader))"
   ]
  },
  {
   "cell_type": "code",
   "execution_count": 7,
   "metadata": {},
   "outputs": [],
   "source": [
    "state, action, reward, next_state, done = batch"
   ]
  },
  {
   "cell_type": "code",
   "execution_count": 8,
   "metadata": {},
   "outputs": [
    {
     "data": {
      "text/plain": [
       "torch.Size([128, 48])"
      ]
     },
     "execution_count": 8,
     "metadata": {},
     "output_type": "execute_result"
    }
   ],
   "source": [
    "state.shape"
   ]
  },
  {
   "cell_type": "code",
   "execution_count": 9,
   "metadata": {},
   "outputs": [
    {
     "name": "stdout",
     "output_type": "stream",
     "text": [
      "obs_shape: {'privileged_state': (123,), 'state': (48,)}\n",
      "Asymmetric observation space\n",
      "JITing reset and step\n",
      "Done JITing reset and step\n"
     ]
    }
   ],
   "source": [
    "env = get_env(ENV_NAME, DEVICE)\n",
    "action_dim = env.action_space.shape[0]\n",
    "\n",
    "episode_rewards = []\n",
    "for _ in range(10):\n",
    "    state, _ = env.reset()\n",
    "    done = False\n",
    "    episode_reward = 0.0\n",
    "    while not done:\n",
    "        action = np.random.randn(action_dim)\n",
    "        state, reward, done, _, _ = env.step(action)\n",
    "        episode_reward += reward\n",
    "    episode_rewards.append(episode_reward)"
   ]
  },
  {
   "cell_type": "code",
   "execution_count": 10,
   "metadata": {},
   "outputs": [
    {
     "data": {
      "text/plain": [
       "(np.float64(0.0), np.float64(0.0))"
      ]
     },
     "execution_count": 10,
     "metadata": {},
     "output_type": "execute_result"
    }
   ],
   "source": [
    "np.asarray(episode_rewards).mean(), np.asarray(episode_rewards).std()"
   ]
  },
  {
   "cell_type": "code",
   "execution_count": null,
   "metadata": {},
   "outputs": [],
   "source": []
  }
 ],
 "metadata": {
  "kernelspec": {
   "display_name": "offlinerl-new",
   "language": "python",
   "name": "python3"
  },
  "language_info": {
   "codemirror_mode": {
    "name": "ipython",
    "version": 3
   },
   "file_extension": ".py",
   "mimetype": "text/x-python",
   "name": "python",
   "nbconvert_exporter": "python",
   "pygments_lexer": "ipython3",
   "version": "3.10.18"
  }
 },
 "nbformat": 4,
 "nbformat_minor": 2
}
