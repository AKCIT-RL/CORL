{
 "cells": [
  {
   "cell_type": "code",
   "execution_count": null,
   "id": "e630ebdb",
   "metadata": {},
   "outputs": [],
   "source": [
    "import minari\n",
    "import numpy as np\n",
    "import pandas as pd\n",
    "import os\n"
   ]
  },
  {
   "cell_type": "code",
   "execution_count": null,
   "id": "db61e418",
   "metadata": {},
   "outputs": [],
   "source": [
    "os.environ[\"XLA_PYTHON_CLIENT_PREALLOCATE\"] = \"false\"\n",
    "os.environ[\"MINARI_DATASETS_PATH\"] = \"/home/luanagbmartins/Documents/CEIA/offline_to_online/CORL/datasets\""
   ]
  },
  {
   "cell_type": "code",
   "execution_count": null,
   "id": "14cdf4a5",
   "metadata": {},
   "outputs": [],
   "source": [
    "dataset_list = [\n",
    "    # \"playground/Go2JoystickFlatTerrain-direction-expert-v1\",\n",
    "    # \"playground/Go2JoystickFlatTerrain-direction-medium-v1\",\n",
    "    \"playground/Go2JoystickFlatTerrain-foward-expert-v1\",\n",
    "    # \"playground/Go2JoystickFlatTerrain-foward-medium-v1\",\n",
    "    \"playground/Go2JoystickFlatTerrain-fowardfixed-expert-v1\",\n",
    "    # \"playground/Go2JoystickFlatTerrain-fowardfixed-medium-v1\",\n",
    "    # \"playground/Go2Getup-expert-v1\",\n",
    "    # \"playground/Go2Getup-medium-v1\"\n",
    "]\n",
    "\n",
    "reward_mean = []\n",
    "reward_std = []"
   ]
  },
  {
   "cell_type": "code",
   "execution_count": null,
   "id": "d1bdfae9",
   "metadata": {},
   "outputs": [],
   "source": [
    "for dataset in dataset_list:\n",
    "    d = minari.load_dataset(dataset)\n",
    "    r = np.array([e.rewards.sum() for e in d])\n",
    "    reward_mean.append(r.mean())\n",
    "    reward_std.append(r.std())"
   ]
  },
  {
   "cell_type": "code",
   "execution_count": null,
   "id": "75c7038f",
   "metadata": {},
   "outputs": [],
   "source": [
    "dataset_reward = {\n",
    "    \"dataset\": dataset_list,\n",
    "    \"env\": [d.split(\"/\")[-1].split(\"-\")[0] for d in dataset_list],\n",
    "    \"subtask\": [d.split(\"/\")[-1].split(\"-\")[1] if len(d.split(\"/\")[-1].split(\"-\")) > 3 else \"-\" for d in dataset_list],\n",
    "    \"difficulty\": [d.split(\"/\")[-1].split(\"-\")[-2] for d in dataset_list],\n",
    "    \"reward_mean\": reward_mean,\n",
    "    \"reward_std\": reward_std\n",
    "}\n",
    "\n",
    "pd.DataFrame(dataset_reward).to_csv(\"dataset_rewards.csv\")"
   ]
  }
 ],
 "metadata": {
  "kernelspec": {
   "display_name": "offlinerl-go2-akcit",
   "language": "python",
   "name": "python3"
  },
  "language_info": {
   "codemirror_mode": {
    "name": "ipython",
    "version": 3
   },
   "file_extension": ".py",
   "mimetype": "text/x-python",
   "name": "python",
   "nbconvert_exporter": "python",
   "pygments_lexer": "ipython3",
   "version": "3.10.18"
  }
 },
 "nbformat": 4,
 "nbformat_minor": 5
}
