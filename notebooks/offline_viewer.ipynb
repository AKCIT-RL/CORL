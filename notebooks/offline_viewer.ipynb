{
 "cells": [
  {
   "cell_type": "code",
   "execution_count": null,
   "metadata": {},
   "outputs": [],
   "source": [
    "import os    \n",
    "\n",
    "from datetime import datetime\n",
    "\n",
    "import sys\n",
    "sys.path.append(\"..\")\n",
    "\n",
    "from algorithms.offline.any_percent_bc import get_actor_from_checkpoint as get_actor_from_checkpoint_bc, eval_actor as eval_actor_bc\n",
    "get_actor_from_checkpoint = {\n",
    "    \"BC\": get_actor_from_checkpoint_bc,\n",
    "}\n",
    "eval_actor = {\n",
    "    \"BC\": eval_actor_bc,\n",
    "}\n",
    "\n",
    "from algorithms.utils.wrapper_gym import get_env"
   ]
  },
  {
   "cell_type": "code",
   "execution_count": null,
   "metadata": {},
   "outputs": [],
   "source": [
    "os.environ[\"XLA_PYTHON_CLIENT_PREALLOCATE\"] = \"false\"\n",
    "os.environ[\"MUJOCO_GL\"] = \"egl\""
   ]
  },
  {
   "cell_type": "code",
   "execution_count": null,
   "metadata": {},
   "outputs": [],
   "source": [
    "MODEL = \"BC\"\n",
    "PATH_MODEL = \"../checkpoints/BC/BC-Go1JoystickFlatTerrain-72b53db8\"\n",
    "ENV = \"Go1JoystickFlatTerrain\"\n",
    "N_EPISODES = 5\n",
    "SEED = 1\n",
    "RENDER = True\n",
    "DEVICE = \"cuda\""
   ]
  },
  {
   "cell_type": "code",
   "execution_count": null,
   "metadata": {},
   "outputs": [],
   "source": [
    "render_trajectory = []\n",
    "\n",
    "def render_callback(_, state):\n",
    "    render_trajectory.append(state)\n",
    "\n",
    "env_wrapped = get_env(ENV, \"cuda\", render_callback)\n",
    "\n",
    "state_dim = env_wrapped.observation_space.shape[0] \n",
    "action_dim = env_wrapped.action_space.shape[0]\n",
    "max_action = 1.0"
   ]
  },
  {
   "cell_type": "code",
   "execution_count": null,
   "metadata": {},
   "outputs": [],
   "source": [
    "actor = get_actor_from_checkpoint[MODEL](checkpoint_path=PATH_MODEL, state_dim=state_dim, action_dim=action_dim, max_action=max_action)\n",
    "episode_rewards = eval_actor[MODEL](actor=actor, env=env_wrapped, device=DEVICE, n_episodes=N_EPISODES, seed=SEED, render=RENDER)\n",
    "\n",
    "print(\"Reward: \", episode_rewards.mean(), episode_rewards.std())"
   ]
  },
  {
   "cell_type": "code",
   "execution_count": null,
   "metadata": {},
   "outputs": [],
   "source": [
    "timestamp = datetime.now().strftime(\"%Y%m%d-%H%M%S\")\n",
    "env_wrapped.save_video(render_trajectory, save_path=f\"{PATH_MODEL}/{ENV}-{timestamp}.mp4\")"
   ]
  }
 ],
 "metadata": {
  "kernelspec": {
   "display_name": "offlinerl",
   "language": "python",
   "name": "python3"
  },
  "language_info": {
   "codemirror_mode": {
    "name": "ipython",
    "version": 3
   },
   "file_extension": ".py",
   "mimetype": "text/x-python",
   "name": "python",
   "nbconvert_exporter": "python",
   "pygments_lexer": "ipython3",
   "version": "3.10.18"
  }
 },
 "nbformat": 4,
 "nbformat_minor": 2
}
