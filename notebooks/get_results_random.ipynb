{
 "cells": [
  {
   "cell_type": "code",
   "execution_count": null,
   "metadata": {},
   "outputs": [],
   "source": [
    "import pandas as pd\n",
    "import numpy as np\n",
    "\n",
    "import numpy as np\n",
    "from mujoco_playground import registry\n",
    "\n",
    "import sys\n",
    "sys.path.append(\"..\")\n",
    "from algorithms.utils.wrapper_gym import GymWrapper"
   ]
  },
  {
   "cell_type": "code",
   "execution_count": 3,
   "metadata": {},
   "outputs": [],
   "source": [
    "!export XLA_PYTHON_CLIENT_PREALLOCATE=false "
   ]
  },
  {
   "cell_type": "code",
   "execution_count": null,
   "metadata": {},
   "outputs": [],
   "source": [
    "path_model = [\n",
    "    {'env': 'H1JoystickGaitTracking', \"model\": \"random\"},\n",
    "    {'env': 'H1InplaceGaitTracking', \"model\": \"random\"},\n",
    "    {'env': 'Go1JoystickRoughTerrain', \"model\": \"random\"}, \n",
    "    {'env': 'Go1JoystickFlatTerrain', \"model\": \"random\"},\n",
    "    {'env': 'Go1Handstand', \"model\": \"random\"}, \n",
    "    {'env': 'Go1Getup', \"model\": \"random\"}, \n",
    "    {'env': 'Go1Footstand', \"model\": \"random\"},\n",
    "    {'env': 'G1JoystickRoughTerrain', \"model\": \"random\"}, \n",
    "    {'env': 'G1JoystickFlatTerrain', \"model\": \"random\"},\n",
    "]"
   ]
  },
  {
   "cell_type": "code",
   "execution_count": null,
   "metadata": {},
   "outputs": [],
   "source": [
    "for p in path_model:\n",
    "    print(\"-\"*100)\n",
    "    print(f\"ENV: {p['env']}\")\n",
    "    print(\"-\"*100)\n",
    "    print()\n",
    "    \n",
    "    env = registry.load(p[\"env\"])\n",
    "    env_cfg = registry.get_default_config(p[\"env\"])\n",
    "    randomizer = registry.get_domain_randomizer(p[\"env\"])\n",
    "\n",
    "    render_trajectory = []\n",
    "\n",
    "    def render_callback(_, state):\n",
    "        render_trajectory.append(state)\n",
    "\n",
    "    env_wrapped = GymWrapper(\n",
    "        env,\n",
    "        num_actors=1,\n",
    "        seed=1,\n",
    "        episode_length=env_cfg.episode_length,\n",
    "        action_repeat=1,\n",
    "        render_callback=render_callback,\n",
    "        randomization_fn=randomizer,\n",
    "        device=\"cuda\",\n",
    "    )\n",
    "\n",
    "    state_dim = env_wrapped.observation_space.shape[0] \n",
    "    action_dim = env_wrapped.action_space.shape[0]\n",
    "    max_action = 1.0\n",
    "\n",
    "    # ------------- RANDOM EVALUATION\n",
    "    def eval_random(env, n_episodes):\n",
    "        episode_rewards = []\n",
    "        for _ in range(n_episodes):\n",
    "            _, _ = env.reset()\n",
    "            done = False\n",
    "            episode_reward = 0.0\n",
    "            while not done:\n",
    "                action = np.random.randn(action_dim)\n",
    "                _, reward, done, _, _ = env.step(action)\n",
    "                episode_reward += reward\n",
    "            episode_rewards.append(episode_reward)\n",
    "\n",
    "        return np.asarray(episode_rewards)\n",
    "    \n",
    "    episode_rewards = eval_random(env_wrapped, 10)\n",
    "    p[\"episode_rewards_mean\"] = episode_rewards.mean()\n",
    "    p[\"episode_rewards_std\"] = episode_rewards.std()"
   ]
  },
  {
   "cell_type": "markdown",
   "metadata": {},
   "source": []
  },
  {
   "cell_type": "code",
   "execution_count": null,
   "metadata": {},
   "outputs": [],
   "source": [
    "pd.DataFrame.from_dict(path_model)"
   ]
  },
  {
   "cell_type": "code",
   "execution_count": 12,
   "metadata": {},
   "outputs": [],
   "source": [
    "pd.DataFrame.from_dict(path_model).to_csv(\"results_random.csv\", index=False)"
   ]
  }
 ],
 "metadata": {
  "kernelspec": {
   "display_name": "d3rl",
   "language": "python",
   "name": "python3"
  },
  "language_info": {
   "codemirror_mode": {
    "name": "ipython",
    "version": 3
   },
   "file_extension": ".py",
   "mimetype": "text/x-python",
   "name": "python",
   "nbconvert_exporter": "python",
   "pygments_lexer": "ipython3",
   "version": "3.10.16"
  }
 },
 "nbformat": 4,
 "nbformat_minor": 2
}
