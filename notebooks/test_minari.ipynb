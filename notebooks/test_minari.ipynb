{
 "cells": [
  {
   "cell_type": "code",
   "execution_count": 1,
   "metadata": {},
   "outputs": [],
   "source": [
    "import minari\n",
    "from algorithms.utils.wrapper_gym import get_env\n",
    "from algorithms.utils.dataset import qlearning_dataset\n",
    "\n",
    "from torch.utils.data import DataLoader\n",
    "import torch\n",
    "\n",
    "import minari\n",
    "import numpy as np\n",
    "from typing import Dict"
   ]
  },
  {
   "cell_type": "code",
   "execution_count": 2,
   "metadata": {},
   "outputs": [],
   "source": [
    "dataset = minari.load_dataset(\"playground/Go1JoystickRoughTerrain-expert-v0\")"
   ]
  },
  {
   "cell_type": "code",
   "execution_count": 3,
   "metadata": {},
   "outputs": [],
   "source": [
    "def qlearning_dataset(dataset: minari.MinariDataset) -> Dict[str, np.ndarray]:\n",
    "    obs, next_obs, actions, rewards, dones = [], [], [], [], []\n",
    "\n",
    "    for episode in dataset.iterate_episodes():\n",
    "        obs.append(episode.observations[:-1].astype(np.float32))\n",
    "        next_obs.append(episode.observations[1:].astype(np.float32))\n",
    "        actions.append(episode.actions.astype(np.float32))\n",
    "        rewards.append(episode.rewards)\n",
    "        dones.append(episode.terminations | episode.truncations)\n",
    "\n",
    "    return {\n",
    "        \"observations\": np.concatenate(obs),\n",
    "        \"actions\": np.concatenate(actions),\n",
    "        \"next_observations\": np.concatenate(next_obs),\n",
    "        \"rewards\": np.concatenate(rewards),\n",
    "        \"terminals\": np.concatenate(dones),\n",
    "    }\n",
    "\n",
    "\n",
    "qdataset = qlearning_dataset(dataset)"
   ]
  },
  {
   "cell_type": "code",
   "execution_count": null,
   "metadata": {},
   "outputs": [],
   "source": [
    "actions = qdataset[\"actions\"].flatten()\n",
    "print(f\"Min action value: {actions.min()}\")\n",
    "print(f\"Max action value: {actions.max()}\")"
   ]
  },
  {
   "cell_type": "code",
   "execution_count": 12,
   "metadata": {},
   "outputs": [],
   "source": [
    "class ReplayBuffer(torch.utils.data.Dataset):\n",
    "    def __init__(self, dataset_dict):\n",
    "        self.observations = dataset_dict[\"observations\"]\n",
    "        self.actions = dataset_dict[\"actions\"]\n",
    "        self.rewards = dataset_dict[\"rewards\"]\n",
    "        self.next_observations = dataset_dict[\"next_observations\"]\n",
    "        self.terminals = dataset_dict[\"terminals\"]\n",
    "        self.size = len(self.observations)\n",
    "\n",
    "    def __len__(self):\n",
    "        return self.size\n",
    "\n",
    "    def __getitem__(self, idx):\n",
    "        return [\n",
    "            torch.from_numpy(self.observations[idx]),\n",
    "            torch.from_numpy(self.actions[idx]),\n",
    "            torch.tensor(self.rewards[idx], dtype=torch.float32),\n",
    "            torch.from_numpy(self.next_observations[idx]),\n",
    "            torch.tensor(self.terminals[idx], dtype=torch.float32),\n",
    "        ]\n",
    "\n",
    "\n",
    "# Create the replay buffer and dataloader\n",
    "replay_buffer = ReplayBuffer(qdataset)\n",
    "dataloader = DataLoader(replay_buffer, batch_size=128, shuffle=True)\n",
    "\n",
    "# Now you can iterate over the dataloader\n",
    "batch = next(iter(dataloader))"
   ]
  },
  {
   "cell_type": "code",
   "execution_count": null,
   "metadata": {},
   "outputs": [],
   "source": [
    "len(batch), batch[0].shape"
   ]
  }
 ],
 "metadata": {
  "kernelspec": {
   "display_name": "d3rl",
   "language": "python",
   "name": "python3"
  },
  "language_info": {
   "codemirror_mode": {
    "name": "ipython",
    "version": 3
   },
   "file_extension": ".py",
   "mimetype": "text/x-python",
   "name": "python",
   "nbconvert_exporter": "python",
   "pygments_lexer": "ipython3",
   "version": "3.10.16"
  }
 },
 "nbformat": 4,
 "nbformat_minor": 2
}
