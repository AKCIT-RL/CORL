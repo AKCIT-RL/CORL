{
  "cells": [
    {
      "cell_type": "code",
      "execution_count": 1,
      "metadata": {
        "cellView": "form",
        "id": "Xqo7pyX-n72M"
      },
      "outputs": [
        {
          "name": "stdout",
          "output_type": "stream",
          "text": [
            "Requirement already satisfied: mujoco in /home/luanagbmartins/miniconda3/envs/d3rl/lib/python3.10/site-packages (3.3.0)\n",
            "Requirement already satisfied: absl-py in /home/luanagbmartins/miniconda3/envs/d3rl/lib/python3.10/site-packages (from mujoco) (2.2.1)\n",
            "Requirement already satisfied: etils[epath] in /home/luanagbmartins/miniconda3/envs/d3rl/lib/python3.10/site-packages (from mujoco) (1.12.2)\n",
            "Requirement already satisfied: glfw in /home/luanagbmartins/miniconda3/envs/d3rl/lib/python3.10/site-packages (from mujoco) (2.8.0)\n",
            "Requirement already satisfied: numpy in /home/luanagbmartins/miniconda3/envs/d3rl/lib/python3.10/site-packages (from mujoco) (2.2.4)\n",
            "Requirement already satisfied: pyopengl in /home/luanagbmartins/miniconda3/envs/d3rl/lib/python3.10/site-packages (from mujoco) (3.1.9)\n",
            "Requirement already satisfied: fsspec in /home/luanagbmartins/miniconda3/envs/d3rl/lib/python3.10/site-packages (from etils[epath]->mujoco) (2025.3.2)\n",
            "Requirement already satisfied: importlib_resources in /home/luanagbmartins/miniconda3/envs/d3rl/lib/python3.10/site-packages (from etils[epath]->mujoco) (6.5.2)\n",
            "Requirement already satisfied: typing_extensions in /home/luanagbmartins/miniconda3/envs/d3rl/lib/python3.10/site-packages (from etils[epath]->mujoco) (4.13.0)\n",
            "Requirement already satisfied: zipp in /home/luanagbmartins/miniconda3/envs/d3rl/lib/python3.10/site-packages (from etils[epath]->mujoco) (3.21.0)\n",
            "Requirement already satisfied: mujoco_mjx in /home/luanagbmartins/miniconda3/envs/d3rl/lib/python3.10/site-packages (3.3.0)\n",
            "Requirement already satisfied: absl-py in /home/luanagbmartins/miniconda3/envs/d3rl/lib/python3.10/site-packages (from mujoco_mjx) (2.2.1)\n",
            "Requirement already satisfied: etils[epath] in /home/luanagbmartins/miniconda3/envs/d3rl/lib/python3.10/site-packages (from mujoco_mjx) (1.12.2)\n",
            "Requirement already satisfied: jax in /home/luanagbmartins/miniconda3/envs/d3rl/lib/python3.10/site-packages (from mujoco_mjx) (0.5.3)\n",
            "Requirement already satisfied: jaxlib in /home/luanagbmartins/miniconda3/envs/d3rl/lib/python3.10/site-packages (from mujoco_mjx) (0.5.3)\n",
            "Requirement already satisfied: mujoco>=3.3.0.dev0 in /home/luanagbmartins/miniconda3/envs/d3rl/lib/python3.10/site-packages (from mujoco_mjx) (3.3.0)\n",
            "Requirement already satisfied: scipy in /home/luanagbmartins/miniconda3/envs/d3rl/lib/python3.10/site-packages (from mujoco_mjx) (1.15.2)\n",
            "Requirement already satisfied: trimesh in /home/luanagbmartins/miniconda3/envs/d3rl/lib/python3.10/site-packages (from mujoco_mjx) (4.6.6)\n",
            "Requirement already satisfied: glfw in /home/luanagbmartins/miniconda3/envs/d3rl/lib/python3.10/site-packages (from mujoco>=3.3.0.dev0->mujoco_mjx) (2.8.0)\n",
            "Requirement already satisfied: numpy in /home/luanagbmartins/miniconda3/envs/d3rl/lib/python3.10/site-packages (from mujoco>=3.3.0.dev0->mujoco_mjx) (2.2.4)\n",
            "Requirement already satisfied: pyopengl in /home/luanagbmartins/miniconda3/envs/d3rl/lib/python3.10/site-packages (from mujoco>=3.3.0.dev0->mujoco_mjx) (3.1.9)\n",
            "Requirement already satisfied: fsspec in /home/luanagbmartins/miniconda3/envs/d3rl/lib/python3.10/site-packages (from etils[epath]->mujoco_mjx) (2025.3.2)\n",
            "Requirement already satisfied: importlib_resources in /home/luanagbmartins/miniconda3/envs/d3rl/lib/python3.10/site-packages (from etils[epath]->mujoco_mjx) (6.5.2)\n",
            "Requirement already satisfied: typing_extensions in /home/luanagbmartins/miniconda3/envs/d3rl/lib/python3.10/site-packages (from etils[epath]->mujoco_mjx) (4.13.0)\n",
            "Requirement already satisfied: zipp in /home/luanagbmartins/miniconda3/envs/d3rl/lib/python3.10/site-packages (from etils[epath]->mujoco_mjx) (3.21.0)\n",
            "Requirement already satisfied: ml_dtypes>=0.4.0 in /home/luanagbmartins/miniconda3/envs/d3rl/lib/python3.10/site-packages (from jax->mujoco_mjx) (0.5.1)\n",
            "Requirement already satisfied: opt_einsum in /home/luanagbmartins/miniconda3/envs/d3rl/lib/python3.10/site-packages (from jax->mujoco_mjx) (3.4.0)\n",
            "Requirement already satisfied: brax in /home/luanagbmartins/miniconda3/envs/d3rl/lib/python3.10/site-packages (0.12.1)\n",
            "Requirement already satisfied: absl-py in /home/luanagbmartins/miniconda3/envs/d3rl/lib/python3.10/site-packages (from brax) (2.2.1)\n",
            "Requirement already satisfied: dm_env in /home/luanagbmartins/miniconda3/envs/d3rl/lib/python3.10/site-packages (from brax) (1.6)\n",
            "Requirement already satisfied: etils in /home/luanagbmartins/miniconda3/envs/d3rl/lib/python3.10/site-packages (from brax) (1.12.2)\n",
            "Requirement already satisfied: flask in /home/luanagbmartins/miniconda3/envs/d3rl/lib/python3.10/site-packages (from brax) (3.1.0)\n",
            "Requirement already satisfied: flask_cors in /home/luanagbmartins/miniconda3/envs/d3rl/lib/python3.10/site-packages (from brax) (5.0.1)\n",
            "Requirement already satisfied: flax in /home/luanagbmartins/miniconda3/envs/d3rl/lib/python3.10/site-packages (from brax) (0.10.5)\n",
            "Requirement already satisfied: grpcio in /home/luanagbmartins/miniconda3/envs/d3rl/lib/python3.10/site-packages (from brax) (1.71.0)\n",
            "Requirement already satisfied: gym in /home/luanagbmartins/miniconda3/envs/d3rl/lib/python3.10/site-packages (from brax) (0.26.2)\n",
            "Requirement already satisfied: jax>=0.4.6 in /home/luanagbmartins/miniconda3/envs/d3rl/lib/python3.10/site-packages (from brax) (0.5.3)\n",
            "Requirement already satisfied: jaxlib>=0.4.6 in /home/luanagbmartins/miniconda3/envs/d3rl/lib/python3.10/site-packages (from brax) (0.5.3)\n",
            "Requirement already satisfied: jaxopt in /home/luanagbmartins/miniconda3/envs/d3rl/lib/python3.10/site-packages (from brax) (0.8.3)\n",
            "Requirement already satisfied: jinja2 in /home/luanagbmartins/miniconda3/envs/d3rl/lib/python3.10/site-packages (from brax) (3.1.6)\n",
            "Requirement already satisfied: ml_collections in /home/luanagbmartins/miniconda3/envs/d3rl/lib/python3.10/site-packages (from brax) (1.0.0)\n",
            "Requirement already satisfied: mujoco in /home/luanagbmartins/miniconda3/envs/d3rl/lib/python3.10/site-packages (from brax) (3.3.0)\n",
            "Requirement already satisfied: mujoco-mjx in /home/luanagbmartins/miniconda3/envs/d3rl/lib/python3.10/site-packages (from brax) (3.3.0)\n",
            "Requirement already satisfied: numpy in /home/luanagbmartins/miniconda3/envs/d3rl/lib/python3.10/site-packages (from brax) (2.2.4)\n",
            "Requirement already satisfied: optax in /home/luanagbmartins/miniconda3/envs/d3rl/lib/python3.10/site-packages (from brax) (0.2.4)\n",
            "Requirement already satisfied: orbax-checkpoint in /home/luanagbmartins/miniconda3/envs/d3rl/lib/python3.10/site-packages (from brax) (0.11.10)\n",
            "Requirement already satisfied: Pillow in /home/luanagbmartins/miniconda3/envs/d3rl/lib/python3.10/site-packages (from brax) (11.2.0)\n",
            "Requirement already satisfied: pytinyrenderer in /home/luanagbmartins/miniconda3/envs/d3rl/lib/python3.10/site-packages (from brax) (0.0.14)\n",
            "Requirement already satisfied: scipy in /home/luanagbmartins/miniconda3/envs/d3rl/lib/python3.10/site-packages (from brax) (1.15.2)\n",
            "Requirement already satisfied: tensorboardX in /home/luanagbmartins/miniconda3/envs/d3rl/lib/python3.10/site-packages (from brax) (2.6.2.2)\n",
            "Requirement already satisfied: trimesh in /home/luanagbmartins/miniconda3/envs/d3rl/lib/python3.10/site-packages (from brax) (4.6.6)\n",
            "Requirement already satisfied: typing-extensions in /home/luanagbmartins/miniconda3/envs/d3rl/lib/python3.10/site-packages (from brax) (4.13.0)\n",
            "Requirement already satisfied: ml_dtypes>=0.4.0 in /home/luanagbmartins/miniconda3/envs/d3rl/lib/python3.10/site-packages (from jax>=0.4.6->brax) (0.5.1)\n",
            "Requirement already satisfied: opt_einsum in /home/luanagbmartins/miniconda3/envs/d3rl/lib/python3.10/site-packages (from jax>=0.4.6->brax) (3.4.0)\n",
            "Requirement already satisfied: dm-tree in /home/luanagbmartins/miniconda3/envs/d3rl/lib/python3.10/site-packages (from dm_env->brax) (0.1.9)\n",
            "Requirement already satisfied: Werkzeug>=3.1 in /home/luanagbmartins/miniconda3/envs/d3rl/lib/python3.10/site-packages (from flask->brax) (3.1.3)\n",
            "Requirement already satisfied: itsdangerous>=2.2 in /home/luanagbmartins/miniconda3/envs/d3rl/lib/python3.10/site-packages (from flask->brax) (2.2.0)\n",
            "Requirement already satisfied: click>=8.1.3 in /home/luanagbmartins/miniconda3/envs/d3rl/lib/python3.10/site-packages (from flask->brax) (8.1.8)\n",
            "Requirement already satisfied: blinker>=1.9 in /home/luanagbmartins/miniconda3/envs/d3rl/lib/python3.10/site-packages (from flask->brax) (1.9.0)\n",
            "Requirement already satisfied: MarkupSafe>=2.0 in /home/luanagbmartins/miniconda3/envs/d3rl/lib/python3.10/site-packages (from jinja2->brax) (3.0.2)\n",
            "Requirement already satisfied: msgpack in /home/luanagbmartins/miniconda3/envs/d3rl/lib/python3.10/site-packages (from flax->brax) (1.1.0)\n",
            "Requirement already satisfied: tensorstore in /home/luanagbmartins/miniconda3/envs/d3rl/lib/python3.10/site-packages (from flax->brax) (0.1.73)\n",
            "Requirement already satisfied: rich>=11.1 in /home/luanagbmartins/miniconda3/envs/d3rl/lib/python3.10/site-packages (from flax->brax) (14.0.0)\n",
            "Requirement already satisfied: PyYAML>=5.4.1 in /home/luanagbmartins/miniconda3/envs/d3rl/lib/python3.10/site-packages (from flax->brax) (6.0.2)\n",
            "Requirement already satisfied: treescope>=0.1.7 in /home/luanagbmartins/miniconda3/envs/d3rl/lib/python3.10/site-packages (from flax->brax) (0.1.9)\n",
            "Requirement already satisfied: cloudpickle>=1.2.0 in /home/luanagbmartins/miniconda3/envs/d3rl/lib/python3.10/site-packages (from gym->brax) (3.1.1)\n",
            "Requirement already satisfied: gym_notices>=0.0.4 in /home/luanagbmartins/miniconda3/envs/d3rl/lib/python3.10/site-packages (from gym->brax) (0.0.8)\n",
            "Requirement already satisfied: six in /home/luanagbmartins/miniconda3/envs/d3rl/lib/python3.10/site-packages (from ml_collections->brax) (1.17.0)\n",
            "Requirement already satisfied: glfw in /home/luanagbmartins/miniconda3/envs/d3rl/lib/python3.10/site-packages (from mujoco->brax) (2.8.0)\n",
            "Requirement already satisfied: pyopengl in /home/luanagbmartins/miniconda3/envs/d3rl/lib/python3.10/site-packages (from mujoco->brax) (3.1.9)\n",
            "Requirement already satisfied: chex>=0.1.87 in /home/luanagbmartins/miniconda3/envs/d3rl/lib/python3.10/site-packages (from optax->brax) (0.1.89)\n",
            "Requirement already satisfied: nest_asyncio in /home/luanagbmartins/miniconda3/envs/d3rl/lib/python3.10/site-packages (from orbax-checkpoint->brax) (1.6.0)\n",
            "Requirement already satisfied: protobuf in /home/luanagbmartins/miniconda3/envs/d3rl/lib/python3.10/site-packages (from orbax-checkpoint->brax) (5.29.4)\n",
            "Requirement already satisfied: humanize in /home/luanagbmartins/miniconda3/envs/d3rl/lib/python3.10/site-packages (from orbax-checkpoint->brax) (4.12.2)\n",
            "Requirement already satisfied: simplejson>=3.16.0 in /home/luanagbmartins/miniconda3/envs/d3rl/lib/python3.10/site-packages (from orbax-checkpoint->brax) (3.20.1)\n",
            "Requirement already satisfied: packaging in /home/luanagbmartins/miniconda3/envs/d3rl/lib/python3.10/site-packages (from tensorboardX->brax) (24.2)\n",
            "Requirement already satisfied: toolz>=0.9.0 in /home/luanagbmartins/miniconda3/envs/d3rl/lib/python3.10/site-packages (from chex>=0.1.87->optax->brax) (1.0.0)\n",
            "Requirement already satisfied: markdown-it-py>=2.2.0 in /home/luanagbmartins/miniconda3/envs/d3rl/lib/python3.10/site-packages (from rich>=11.1->flax->brax) (3.0.0)\n",
            "Requirement already satisfied: pygments<3.0.0,>=2.13.0 in /home/luanagbmartins/miniconda3/envs/d3rl/lib/python3.10/site-packages (from rich>=11.1->flax->brax) (2.19.1)\n",
            "Requirement already satisfied: attrs>=18.2.0 in /home/luanagbmartins/miniconda3/envs/d3rl/lib/python3.10/site-packages (from dm-tree->dm_env->brax) (25.3.0)\n",
            "Requirement already satisfied: wrapt>=1.11.2 in /home/luanagbmartins/miniconda3/envs/d3rl/lib/python3.10/site-packages (from dm-tree->dm_env->brax) (1.17.2)\n",
            "Requirement already satisfied: fsspec in /home/luanagbmartins/miniconda3/envs/d3rl/lib/python3.10/site-packages (from etils[epath,epy]->orbax-checkpoint->brax) (2025.3.2)\n",
            "Requirement already satisfied: importlib_resources in /home/luanagbmartins/miniconda3/envs/d3rl/lib/python3.10/site-packages (from etils[epath,epy]->orbax-checkpoint->brax) (6.5.2)\n",
            "Requirement already satisfied: zipp in /home/luanagbmartins/miniconda3/envs/d3rl/lib/python3.10/site-packages (from etils[epath,epy]->orbax-checkpoint->brax) (3.21.0)\n",
            "Requirement already satisfied: mdurl~=0.1 in /home/luanagbmartins/miniconda3/envs/d3rl/lib/python3.10/site-packages (from markdown-it-py>=2.2.0->rich>=11.1->flax->brax) (0.1.2)\n"
          ]
        }
      ],
      "source": [
        "#@title Install pre-requisites\n",
        "!pip install mujoco\n",
        "!pip install mujoco_mjx\n",
        "!pip install brax\n"
      ]
    },
    {
      "cell_type": "code",
      "execution_count": 2,
      "metadata": {
        "cellView": "form",
        "id": "IbZxYDxzoz5R"
      },
      "outputs": [
        {
          "name": "stdout",
          "output_type": "stream",
          "text": [
            "Wed Jun 18 09:41:14 2025       \n",
            "+-----------------------------------------------------------------------------------------+\n",
            "| NVIDIA-SMI 560.35.05              Driver Version: 560.35.05      CUDA Version: 12.6     |\n",
            "|-----------------------------------------+------------------------+----------------------+\n",
            "| GPU  Name                 Persistence-M | Bus-Id          Disp.A | Volatile Uncorr. ECC |\n",
            "| Fan  Temp   Perf          Pwr:Usage/Cap |           Memory-Usage | GPU-Util  Compute M. |\n",
            "|                                         |                        |               MIG M. |\n",
            "|=========================================+========================+======================|\n",
            "|   0  NVIDIA GeForce RTX 3090        Off |   00000000:0A:00.0 Off |                  N/A |\n",
            "|  0%   34C    P8             10W /  350W |     108MiB /  24576MiB |      0%      Default |\n",
            "|                                         |                        |                  N/A |\n",
            "+-----------------------------------------+------------------------+----------------------+\n",
            "                                                                                         \n",
            "+-----------------------------------------------------------------------------------------+\n",
            "| Processes:                                                                              |\n",
            "|  GPU   GI   CI        PID   Type   Process name                              GPU Memory |\n",
            "|        ID   ID                                                               Usage      |\n",
            "|=========================================================================================|\n",
            "|    0   N/A  N/A      2374      G   /usr/lib/xorg/Xorg                             75MiB |\n",
            "|    0   N/A  N/A      2604      G   /usr/bin/gnome-shell                           14MiB |\n",
            "+-----------------------------------------------------------------------------------------+\n",
            "Setting environment variable to use GPU rendering:\n",
            "env: MUJOCO_GL=egl\n",
            "Checking that the installation succeeded:\n",
            "Installation successful.\n"
          ]
        }
      ],
      "source": [
        "# @title Check if MuJoCo installation was successful\n",
        "\n",
        "import distutils.util\n",
        "import os\n",
        "import subprocess\n",
        "\n",
        "if subprocess.run('nvidia-smi').returncode:\n",
        "  raise RuntimeError(\n",
        "      'Cannot communicate with GPU. '\n",
        "      'Make sure you are using a GPU Colab runtime. '\n",
        "      'Go to the Runtime menu and select Choose runtime type.'\n",
        "  )\n",
        "\n",
        "# Add an ICD config so that glvnd can pick up the Nvidia EGL driver.\n",
        "# This is usually installed as part of an Nvidia driver package, but the Colab\n",
        "# kernel doesn't install its driver via APT, and as a result the ICD is missing.\n",
        "# (https://github.com/NVIDIA/libglvnd/blob/master/src/EGL/icd_enumeration.md)\n",
        "NVIDIA_ICD_CONFIG_PATH = '/usr/share/glvnd/egl_vendor.d/10_nvidia.json'\n",
        "if not os.path.exists(NVIDIA_ICD_CONFIG_PATH):\n",
        "  with open(NVIDIA_ICD_CONFIG_PATH, 'w') as f:\n",
        "    f.write(\"\"\"{\n",
        "    \"file_format_version\" : \"1.0.0\",\n",
        "    \"ICD\" : {\n",
        "        \"library_path\" : \"libEGL_nvidia.so.0\"\n",
        "    }\n",
        "}\n",
        "\"\"\")\n",
        "\n",
        "# Configure MuJoCo to use the EGL rendering backend (requires GPU)\n",
        "print('Setting environment variable to use GPU rendering:')\n",
        "%env MUJOCO_GL=egl\n",
        "\n",
        "try:\n",
        "  print('Checking that the installation succeeded:')\n",
        "  import mujoco\n",
        "\n",
        "  mujoco.MjModel.from_xml_string('<mujoco/>')\n",
        "except Exception as e:\n",
        "  raise e from RuntimeError(\n",
        "      'Something went wrong during installation. Check the shell output above '\n",
        "      'for more information.\\n'\n",
        "      'If using a hosted Colab runtime, make sure you enable GPU acceleration '\n",
        "      'by going to the Runtime menu and selecting \"Choose runtime type\".'\n",
        "  )\n",
        "\n",
        "print('Installation successful.')\n",
        "\n",
        "# Tell XLA to use Triton GEMM, this improves steps/sec by ~30% on some GPUs\n",
        "xla_flags = os.environ.get('XLA_FLAGS', '')\n",
        "xla_flags += ' --xla_gpu_triton_gemm_any=True'\n",
        "os.environ['XLA_FLAGS'] = xla_flags"
      ]
    },
    {
      "cell_type": "code",
      "execution_count": 3,
      "metadata": {
        "cellView": "form",
        "id": "T5f4w3Kq2X14"
      },
      "outputs": [
        {
          "name": "stdout",
          "output_type": "stream",
          "text": [
            "Installing mediapy:\n"
          ]
        }
      ],
      "source": [
        "# @title Import packages for plotting and creating graphics\n",
        "import json\n",
        "import itertools\n",
        "import time\n",
        "from typing import Callable, List, NamedTuple, Optional, Union\n",
        "import numpy as np\n",
        "\n",
        "# Graphics and plotting.\n",
        "print(\"Installing mediapy:\")\n",
        "!command -v ffmpeg >/dev/null || (apt update && apt install -y ffmpeg)\n",
        "!pip install -q mediapy\n",
        "import mediapy as media\n",
        "import matplotlib.pyplot as plt\n",
        "\n",
        "# More legible printing from numpy.\n",
        "np.set_printoptions(precision=3, suppress=True, linewidth=100)"
      ]
    },
    {
      "cell_type": "code",
      "execution_count": 4,
      "metadata": {
        "cellView": "form",
        "id": "ObF1UXrkb0Nd"
      },
      "outputs": [],
      "source": [
        "# @title Import MuJoCo, MJX, and Brax\n",
        "from datetime import datetime\n",
        "import functools\n",
        "import os\n",
        "from typing import Any, Dict, Sequence, Tuple, Union\n",
        "from brax import base\n",
        "from brax import envs\n",
        "from brax import math\n",
        "from brax.base import Base, Motion, Transform\n",
        "from brax.base import State as PipelineState\n",
        "from brax.envs.base import Env, PipelineEnv, State\n",
        "from brax.io import html, mjcf, model\n",
        "from brax.mjx.base import State as MjxState\n",
        "from brax.training.agents.ppo import networks as ppo_networks\n",
        "from brax.training.agents.ppo import train as ppo\n",
        "from brax.training.agents.sac import networks as sac_networks\n",
        "from brax.training.agents.sac import train as sac\n",
        "from etils import epath\n",
        "from flax import struct\n",
        "from flax.training import orbax_utils\n",
        "from IPython.display import HTML, clear_output\n",
        "import jax\n",
        "from jax import numpy as jp\n",
        "from matplotlib import pyplot as plt\n",
        "import mediapy as media\n",
        "from ml_collections import config_dict\n",
        "import mujoco\n",
        "from mujoco import mjx\n",
        "import numpy as np\n",
        "from orbax import checkpoint as ocp"
      ]
    },
    {
      "cell_type": "code",
      "execution_count": 6,
      "metadata": {
        "cellView": "form",
        "id": "gYm2h7m8w3Nv"
      },
      "outputs": [],
      "source": [
        "#@title Import The Playground\n",
        "\n",
        "from mujoco_playground import wrapper\n",
        "from mujoco_playground import registry"
      ]
    },
    {
      "cell_type": "markdown",
      "metadata": {
        "id": "LcibXbyKt4FI"
      },
      "source": [
        "# Manipulation\n",
        "\n",
        "MuJoCo Playground contains several manipulation environments (all listed below after running the command)."
      ]
    },
    {
      "cell_type": "code",
      "execution_count": 7,
      "metadata": {
        "id": "ox0Gze9Ct5AM"
      },
      "outputs": [
        {
          "data": {
            "text/plain": [
              "('AlohaHandOver',\n",
              " 'AlohaSinglePegInsertion',\n",
              " 'PandaPickCube',\n",
              " 'PandaPickCubeOrientation',\n",
              " 'PandaPickCubeCartesian',\n",
              " 'PandaOpenCabinet',\n",
              " 'PandaRobotiqPushCube',\n",
              " 'LeapCubeReorient',\n",
              " 'LeapCubeRotateZAxis')"
            ]
          },
          "execution_count": 7,
          "metadata": {},
          "output_type": "execute_result"
        }
      ],
      "source": [
        "registry.manipulation.ALL_ENVS"
      ]
    },
    {
      "cell_type": "markdown",
      "metadata": {
        "id": "_R01tjWfI-i6"
      },
      "source": [
        "# Franka Emika Panda\n",
        "\n",
        "Let's start off with the simplest environment, simply picking up a cube with the Franka Emika Panda."
      ]
    },
    {
      "cell_type": "code",
      "execution_count": 8,
      "metadata": {
        "id": "kPJeoQeEJBSA"
      },
      "outputs": [],
      "source": [
        "env_name = 'PandaRobotiqPushCube'\n",
        "env = registry.load(env_name)\n",
        "env_cfg = registry.get_default_config(env_name)"
      ]
    },
    {
      "cell_type": "markdown",
      "metadata": {
        "id": "Thm7nZueM4cz"
      },
      "source": [
        "## Train Policy\n",
        "\n",
        "Let's train the pick cube policy and visualize rollouts. The policy takes roughly 3 minutes to train on an RTX 4090."
      ]
    },
    {
      "cell_type": "code",
      "execution_count": 9,
      "metadata": {
        "id": "B9T_UVZYLDdM"
      },
      "outputs": [
        {
          "data": {
            "text/plain": [
              "action_repeat: 4\n",
              "batch_size: 512\n",
              "discounting: 0.994\n",
              "entropy_cost: 0.01\n",
              "episode_length: 3000\n",
              "learning_rate: 0.0006\n",
              "network_factory:\n",
              "  policy_hidden_layer_sizes: !!python/tuple\n",
              "  - 64\n",
              "  - 64\n",
              "  - 64\n",
              "  - 64\n",
              "  policy_obs_key: state\n",
              "  value_hidden_layer_sizes: !!python/tuple\n",
              "  - 256\n",
              "  - 256\n",
              "  - 256\n",
              "  - 256\n",
              "  - 256\n",
              "  value_obs_key: state\n",
              "normalize_observations: true\n",
              "num_envs: 8192\n",
              "num_eval_envs: 32\n",
              "num_evals: 10\n",
              "num_minibatches: 32\n",
              "num_resets_per_eval: 1\n",
              "num_timesteps: 1800000000\n",
              "num_updates_per_batch: 8\n",
              "reward_scaling: 1.0\n",
              "unroll_length: 100"
            ]
          },
          "execution_count": 9,
          "metadata": {},
          "output_type": "execute_result"
        }
      ],
      "source": [
        "from mujoco_playground.config import manipulation_params\n",
        "ppo_params = manipulation_params.brax_ppo_config(env_name)\n",
        "ppo_params"
      ]
    },
    {
      "cell_type": "code",
      "execution_count": 14,
      "metadata": {},
      "outputs": [],
      "source": [
        "# ppo_params[\"num_envs\"] = 8192*2\n",
        "# ppo_params[\"num_minibatches\"] = 64\n",
        "# ppo_params[\"num_timesteps\"] = 3000000000"
      ]
    },
    {
      "cell_type": "code",
      "execution_count": 10,
      "metadata": {},
      "outputs": [
        {
          "name": "stdout",
          "output_type": "stream",
          "text": [
            "/home/luanagbmartins/Documents/CEIA/offline_to_online/CORL/notebooks/checkpoints/PandaRobotiqPushCube\n"
          ]
        }
      ],
      "source": [
        "ckpt_path = epath.Path(\"checkpoints\").resolve() / env_name\n",
        "ckpt_path.mkdir(parents=True, exist_ok=True)\n",
        "print(f\"{ckpt_path}\")\n",
        "\n",
        "with open(ckpt_path / \"config.json\", \"w\") as fp:\n",
        "    json.dump(env_cfg.to_dict(), fp, indent=4)"
      ]
    },
    {
      "cell_type": "code",
      "execution_count": null,
      "metadata": {},
      "outputs": [],
      "source": []
    },
    {
      "cell_type": "markdown",
      "metadata": {
        "id": "vBEEQyY6M5OC"
      },
      "source": [
        "### PPO"
      ]
    },
    {
      "cell_type": "code",
      "execution_count": 11,
      "metadata": {
        "id": "XKFzyP7wM5OD"
      },
      "outputs": [],
      "source": [
        "x_data, y_data, y_dataerr = [], [], []\n",
        "times = [datetime.now()]\n",
        "\n",
        "def policy_params_fn(current_step, make_policy, params):\n",
        "  del make_policy  # Unused.\n",
        "  orbax_checkpointer = ocp.PyTreeCheckpointer()\n",
        "  save_args = orbax_utils.save_args_from_target(params)\n",
        "  path = ckpt_path / f\"{current_step}\"\n",
        "  orbax_checkpointer.save(path, params, force=True, save_args=save_args)\n",
        "\n",
        "\n",
        "def progress(num_steps, metrics):\n",
        "  clear_output(wait=True)\n",
        "\n",
        "  times.append(datetime.now())\n",
        "  x_data.append(num_steps)\n",
        "  y_data.append(metrics[\"eval/episode_reward\"])\n",
        "  y_dataerr.append(metrics[\"eval/episode_reward_std\"])\n",
        "\n",
        "  plt.xlim([0, ppo_params[\"num_timesteps\"] * 1.25])\n",
        "  plt.xlabel(\"# environment steps\")\n",
        "  plt.ylabel(\"reward per episode\")\n",
        "  plt.title(f\"y={y_data[-1]:.3f}\")\n",
        "  plt.errorbar(x_data, y_data, yerr=y_dataerr, color=\"blue\")\n",
        "\n",
        "  display(plt.gcf())\n",
        "\n",
        "ppo_training_params = dict(ppo_params)\n",
        "network_factory = ppo_networks.make_ppo_networks\n",
        "if \"network_factory\" in ppo_params:\n",
        "  del ppo_training_params[\"network_factory\"]\n",
        "  network_factory = functools.partial(\n",
        "      ppo_networks.make_ppo_networks,\n",
        "      **ppo_params.network_factory\n",
        "  )\n",
        "\n",
        "train_fn = functools.partial(\n",
        "    ppo.train, **dict(ppo_training_params),\n",
        "    network_factory=network_factory,\n",
        "    progress_fn=progress,\n",
        "    seed=1,\n",
        "    policy_params_fn=policy_params_fn\n",
        ")"
      ]
    },
    {
      "cell_type": "code",
      "execution_count": 12,
      "metadata": {
        "id": "FGrlulWbM5OD"
      },
      "outputs": [
        {
          "data": {
            "image/png": "[encoded data removed]",
            "text/plain": [
              "<Figure size 640x480 with 1 Axes>"
            ]
          },
          "metadata": {},
          "output_type": "display_data"
        },
        {
          "name": "stderr",
          "output_type": "stream",
          "text": [
            "WARNING:absl:[process=0][thread=MainThread] Skipped cross-host ArrayMetadata validation because only one process is found: process_index=0.\n"
          ]
        },
        {
          "name": "stdout",
          "output_type": "stream",
          "text": [
            "time to jit: 0:01:38.949016\n",
            "time to train: 1:22:24.861635\n"
          ]
        },
        {
          "data": {
            "image/png": "[encoded data removed]",
            "text/plain": [
              "<Figure size 640x480 with 1 Axes>"
            ]
          },
          "metadata": {},
          "output_type": "display_data"
        }
      ],
      "source": [
        "make_inference_fn, params, metrics = train_fn(\n",
        "    environment=env,\n",
        "    wrap_env_fn=wrapper.wrap_for_brax_training,\n",
        ")\n",
        "print(f\"time to jit: {times[1] - times[0]}\")\n",
        "print(f\"time to train: {times[-1] - times[1]}\")"
      ]
    },
    {
      "cell_type": "markdown",
      "metadata": {
        "id": "mHVmccs-oMSo"
      },
      "source": [
        "## Visualize Rollouts"
      ]
    },
    {
      "cell_type": "code",
      "execution_count": 11,
      "metadata": {
        "id": "sG5a2FFXoUKw"
      },
      "outputs": [],
      "source": [
        "jit_reset = jax.jit(env.reset)\n",
        "jit_step = jax.jit(env.step)\n",
        "jit_inference_fn = jax.jit(make_inference_fn(params, deterministic=True))"
      ]
    },
    {
      "cell_type": "code",
      "execution_count": null,
      "metadata": {
        "id": "C_1CY9xDoUKw"
      },
      "outputs": [],
      "source": [
        "rng = jax.random.PRNGKey(42)\n",
        "rollout = []\n",
        "n_episodes = 1\n",
        "\n",
        "for _ in range(n_episodes):\n",
        "  state = jit_reset(rng)\n",
        "  rollout.append(state)\n",
        "  for i in range(env_cfg.episode_length):\n",
        "    act_rng, rng = jax.random.split(rng)\n",
        "    ctrl, _ = jit_inference_fn(state.obs, act_rng)\n",
        "    state = jit_step(state, ctrl)\n",
        "    rollout.append(state)\n",
        "\n",
        "render_every = 1\n",
        "frames = env.render(rollout[::render_every])\n",
        "rewards = [s.reward for s in rollout]\n",
        "media.show_video(frames, fps=1.0 / env.dt / render_every)"
      ]
    },
    {
      "cell_type": "markdown",
      "metadata": {
        "id": "v5r4FwivlnoG"
      },
      "source": [
        "While the above policy is very simple, the work was extended using the Madrona batch renderer, and policies were transferred on a real robot. We encourage folks to check out the Madrona-MJX tutorial notebooks ([part 1](https://colab.research.google.com/github/google-deepmind/mujoco_playground/blob/main/learning/notebooks/training_vision_1.ipynb) and [part 2](https://colab.research.google.com/github/google-deepmind/mujoco_playground/blob/main/learning/notebooks/training_vision_2.ipynb))!"
      ]
    },
    {
      "cell_type": "markdown",
      "metadata": {
        "id": "YVQsrEE3mMj8"
      },
      "source": [
        "# Dexterous Manipulation\n",
        "\n",
        "Let's now train a policy that was transferred onto a real Leap Hand robot with the `LeapCubeReorient` environment! The environment contains a cube placed in the center of the hand, and the goal is to re-orient the cube in SO(3)."
      ]
    },
    {
      "cell_type": "code",
      "execution_count": null,
      "metadata": {
        "id": "oPaTdWqVmuPt"
      },
      "outputs": [],
      "source": [
        "env_name = 'LeapCubeReorient'\n",
        "env = registry.load(env_name)\n",
        "env_cfg = registry.get_default_config(env_name)"
      ]
    },
    {
      "cell_type": "code",
      "execution_count": null,
      "metadata": {
        "id": "c0OII08RmuPt"
      },
      "outputs": [],
      "source": [
        "env_cfg"
      ]
    },
    {
      "cell_type": "markdown",
      "metadata": {
        "id": "3g335ZYFmuPt"
      },
      "source": [
        "## Train Policy\n",
        "\n",
        "Let's train an initial policy and visualize the rollouts. Notice that the PPO parameters contain `policy_obs_key` and `value_obs_key` fields, which allow us to train brax PPO with [asymmetric](https://arxiv.org/abs/1710.06542) observations for the actor and the critic. While the actor recieves proprioceptive state similar in nature to the real-world camera tracking sensors, the critic network recieves privileged state only available in the simulator. This enables more sample efficient learning, and we are able to train an initial policy in 33 minutes on a single RTX 4090.\n",
        "\n",
        "Depending on the GPU device and topology, training can be brought down to 10-20 minutes as shown in the MuJoCo Playground technical report."
      ]
    },
    {
      "cell_type": "code",
      "execution_count": null,
      "metadata": {
        "id": "cc1Ka4hYmuPt"
      },
      "outputs": [],
      "source": [
        "from mujoco_playground.config import manipulation_params\n",
        "ppo_params = manipulation_params.brax_ppo_config(env_name)\n",
        "ppo_params"
      ]
    },
    {
      "cell_type": "markdown",
      "metadata": {
        "id": "Ulr1ih6PmuPu"
      },
      "source": [
        "### PPO"
      ]
    },
    {
      "cell_type": "code",
      "execution_count": null,
      "metadata": {
        "id": "gzwRjUGLmuPu"
      },
      "outputs": [],
      "source": [
        "x_data, y_data, y_dataerr = [], [], []\n",
        "times = [datetime.now()]\n",
        "\n",
        "\n",
        "def progress(num_steps, metrics):\n",
        "  clear_output(wait=True)\n",
        "\n",
        "  times.append(datetime.now())\n",
        "  x_data.append(num_steps)\n",
        "  y_data.append(metrics[\"eval/episode_reward\"])\n",
        "  y_dataerr.append(metrics[\"eval/episode_reward_std\"])\n",
        "\n",
        "  plt.xlim([0, ppo_params[\"num_timesteps\"] * 1.25])\n",
        "  plt.xlabel(\"# environment steps\")\n",
        "  plt.ylabel(\"reward per episode\")\n",
        "  plt.title(f\"y={y_data[-1]:.3f}\")\n",
        "  plt.errorbar(x_data, y_data, yerr=y_dataerr, color=\"blue\")\n",
        "\n",
        "  display(plt.gcf())\n",
        "\n",
        "ppo_training_params = dict(ppo_params)\n",
        "network_factory = ppo_networks.make_ppo_networks\n",
        "if \"network_factory\" in ppo_params:\n",
        "  del ppo_training_params[\"network_factory\"]\n",
        "  network_factory = functools.partial(\n",
        "      ppo_networks.make_ppo_networks,\n",
        "      **ppo_params.network_factory\n",
        "  )\n",
        "\n",
        "train_fn = functools.partial(\n",
        "    ppo.train, **dict(ppo_training_params),\n",
        "    network_factory=network_factory,\n",
        "    progress_fn=progress,\n",
        "    seed=1\n",
        ")"
      ]
    },
    {
      "cell_type": "code",
      "execution_count": null,
      "metadata": {
        "id": "YmortADGmuPu"
      },
      "outputs": [],
      "source": [
        "make_inference_fn, params, metrics = train_fn(\n",
        "    environment=env,\n",
        "    wrap_env_fn=wrapper.wrap_for_brax_training,\n",
        ")\n",
        "print(f\"time to jit: {times[1] - times[0]}\")\n",
        "print(f\"time to train: {times[-1] - times[1]}\")"
      ]
    },
    {
      "cell_type": "markdown",
      "metadata": {
        "id": "xIB_677emuPu"
      },
      "source": [
        "## Visualize Rollouts"
      ]
    },
    {
      "cell_type": "code",
      "execution_count": null,
      "metadata": {
        "id": "xBgGvZpTmuPu"
      },
      "outputs": [],
      "source": [
        "jit_reset = jax.jit(env.reset)\n",
        "jit_step = jax.jit(env.step)\n",
        "jit_inference_fn = jax.jit(make_inference_fn(params, deterministic=True))"
      ]
    },
    {
      "cell_type": "code",
      "execution_count": null,
      "metadata": {
        "id": "Ksj6_9PwmuPu"
      },
      "outputs": [],
      "source": [
        "rng = jax.random.PRNGKey(42)\n",
        "rollout = []\n",
        "n_episodes = 1\n",
        "\n",
        "for _ in range(n_episodes):\n",
        "  state = jit_reset(rng)\n",
        "  rollout.append(state)\n",
        "  for i in range(env_cfg.episode_length):\n",
        "    act_rng, rng = jax.random.split(rng)\n",
        "    ctrl, _ = jit_inference_fn(state.obs, act_rng)\n",
        "    state = jit_step(state, ctrl)\n",
        "    rollout.append(state)\n",
        "\n",
        "render_every = 1\n",
        "frames = env.render(rollout[::render_every])\n",
        "rewards = [s.reward for s in rollout]\n",
        "media.show_video(frames, fps=1.0 / env.dt / render_every)"
      ]
    },
    {
      "cell_type": "markdown",
      "metadata": {
        "id": "dWIVTxq5nhs5"
      },
      "source": [
        "The above policy solves the task, but may look a little bit jittery. To get robust sim-to-real transfer,  we retrained from previous checkpoints using a curriculum on the maximum torque to facilitate exploration early on in the curriculum, and to produce smoother actions for the final policy. More details can be found in the MuJoCo Playground technical report!"
      ]
    },
    {
      "cell_type": "markdown",
      "metadata": {
        "id": "CBtrAqns35sI"
      },
      "source": [
        "🙌 Thanks for stopping by The Playground!"
      ]
    }
  ],
  "metadata": {
    "accelerator": "GPU",
    "colab": {
      "gpuType": "A100",
      "machine_shape": "hm",
      "private_outputs": true,
      "provenance": [],
      "toc_visible": true
    },
    "kernelspec": {
      "display_name": "d3rl",
      "language": "python",
      "name": "python3"
    },
    "language_info": {
      "codemirror_mode": {
        "name": "ipython",
        "version": 3
      },
      "file_extension": ".py",
      "mimetype": "text/x-python",
      "name": "python",
      "nbconvert_exporter": "python",
      "pygments_lexer": "ipython3",
      "version": "3.10.16"
    }
  },
  "nbformat": 4,
  "nbformat_minor": 0
}
