{
 "cells": [
  {
   "cell_type": "code",
   "execution_count": 10,
   "metadata": {},
   "outputs": [],
   "source": [
    "import numpy as np\n",
    "from PIL import Image\n",
    "\n",
    "\n",
    "def create_random_grayscale(mu=128, sigma=32, size=256, squares=8):\n",
    "    # Create array for the pattern\n",
    "    pattern = np.zeros((size, size), dtype=np.uint8)\n",
    "    square_size = size // squares\n",
    "\n",
    "    # Generate random grayscale values for each square\n",
    "    for i in range(squares):\n",
    "        for j in range(squares):\n",
    "            # Random value between 0 (black) and 255 (white)\n",
    "            gray_value = int(np.clip(np.random.normal(mu, sigma), 0, 255))\n",
    "            pattern[\n",
    "                i * square_size : (i + 1) * square_size,\n",
    "                j * square_size : (j + 1) * square_size,\n",
    "            ] = gray_value\n",
    "\n",
    "    # Convert to image and save\n",
    "    img = Image.fromarray(pattern)\n",
    "    img.save(\n",
    "        \"/home/luanagbmartins/Documents/CEIA/offline_to_online/mujoco_playground/mujoco_playground/_src/locomotion/go1/xmls/assets/moutainfield.png\"\n",
    "    )\n",
    "\n",
    "\n",
    "# Create a 256x256 image with 8x8 random grayscale squares\n",
    "create_random_grayscale(128, 200, 256, 128)"
   ]
  },
  {
   "cell_type": "code",
   "execution_count": 11,
   "metadata": {},
   "outputs": [],
   "source": [
    "# 50, 125, 200"
   ]
  },
  {
   "cell_type": "code",
   "execution_count": 12,
   "metadata": {},
   "outputs": [],
   "source": [
    "from etils import epath\n",
    "from mujoco_playground._src import mjx_env"
   ]
  },
  {
   "cell_type": "code",
   "execution_count": 13,
   "metadata": {},
   "outputs": [],
   "source": [
    "ROOT_PATH = mjx_env.ROOT_PATH / \"locomotion\" / \"go1\"\n",
    "FEET_ONLY_FLAT_TERRAIN_XML = ROOT_PATH / \"xmls\" / \"scene_mjx_feetonly_flat_terrain.xml\"\n",
    "FEET_ONLY_ROUGH_TERRAIN_XML = (\n",
    "    ROOT_PATH / \"xmls\" / \"scene_mjx_feetonly_rough_terrain.xml\"\n",
    ")\n",
    "FULL_FLAT_TERRAIN_XML = ROOT_PATH / \"xmls\" / \"scene_mjx_flat_terrain.xml\"\n",
    "FULL_COLLISIONS_FLAT_TERRAIN_XML = (\n",
    "    ROOT_PATH / \"xmls\" / \"scene_mjx_fullcollisions_flat_terrain.xml\"\n",
    ")\n",
    "\n",
    "FEET_ONLY_STAIRS_XML = ROOT_PATH / \"xmls\" / \"scene_mjx_feetonly_stairs.xml\"\n",
    "FEET_ONLY_BOWL_XML = ROOT_PATH / \"xmls\" / \"scene_mjx_feetonly_bowl.xml\""
   ]
  },
  {
   "cell_type": "code",
   "execution_count": null,
   "metadata": {},
   "outputs": [],
   "source": []
  },
  {
   "cell_type": "code",
   "execution_count": 14,
   "metadata": {},
   "outputs": [],
   "source": [
    "import mujoco\n",
    "import mujoco_viewer\n",
    "\n",
    "\n",
    "def get_assets():\n",
    "    assets = {}\n",
    "    mjx_env.update_assets(assets, ROOT_PATH / \"xmls\", \"*.xml\")\n",
    "    mjx_env.update_assets(assets, ROOT_PATH / \"xmls\" / \"assets\")\n",
    "    path = mjx_env.MENAGERIE_PATH / \"unitree_go1\"\n",
    "    mjx_env.update_assets(assets, path, \"*.xml\")\n",
    "    mjx_env.update_assets(assets, path / \"assets\")\n",
    "    return assets\n",
    "\n",
    "\n",
    "model = mujoco.MjModel.from_xml_string(\n",
    "    epath.Path(FEET_ONLY_ROUGH_TERRAIN_XML).read_text(), assets=get_assets()\n",
    ")\n",
    "data = mujoco.MjData(model)\n",
    "\n",
    "# Set initial state to home position\n",
    "mujoco.mj_resetDataKeyframe(model, data, 0)  # 0 is the index of \"home\" keyframe\n",
    "\n",
    "# create the viewer object\n",
    "viewer = mujoco_viewer.MujocoViewer(model, data)\n",
    "\n",
    "# simulate and render\n",
    "for _ in range(10000):\n",
    "    if viewer.is_alive:\n",
    "        mujoco.mj_step(model, data)\n",
    "        viewer.render()\n",
    "    else:\n",
    "        break\n",
    "\n",
    "# close\n",
    "viewer.close()"
   ]
  }
 ],
 "metadata": {
  "kernelspec": {
   "display_name": "d3rl",
   "language": "python",
   "name": "python3"
  },
  "language_info": {
   "codemirror_mode": {
    "name": "ipython",
    "version": 3
   },
   "file_extension": ".py",
   "mimetype": "text/x-python",
   "name": "python",
   "nbconvert_exporter": "python",
   "pygments_lexer": "ipython3",
   "version": "3.10.16"
  }
 },
 "nbformat": 4,
 "nbformat_minor": 2
}
