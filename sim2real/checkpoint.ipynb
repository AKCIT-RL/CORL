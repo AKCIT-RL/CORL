{
 "cells": [
  {
   "cell_type": "code",
   "execution_count": 1,
   "id": "a8347340",
   "metadata": {},
   "outputs": [],
   "source": [
    "import os \n",
    "import yaml\n",
    "from datetime import datetime\n",
    "import mujoco.egl\n",
    "import sys\n",
    "sys.path.append(\"..\")\n",
    "from algorithms.utils.wrapper_gym import get_env\n",
    "from algorithms.offline.any_percent_bc import get_actor_from_checkpoint, eval_actor\n"
   ]
  },
  {
   "cell_type": "code",
   "execution_count": 2,
   "id": "baab8287",
   "metadata": {},
   "outputs": [],
   "source": [
    "os.environ[\"XLA_PYTHON_CLIENT_PREALLOCATE\"] = \"false\"\n",
    "os.environ[\"MUJOCO_GL\"] = \"egl\""
   ]
  },
  {
   "cell_type": "code",
   "execution_count": 3,
   "id": "d4b9226b",
   "metadata": {},
   "outputs": [],
   "source": [
    "gl_context = mujoco.egl.GLContext(1024, 1024)\n",
    "gl_context.make_current()"
   ]
  },
  {
   "cell_type": "code",
   "execution_count": 4,
   "id": "dec89fb6",
   "metadata": {},
   "outputs": [],
   "source": [
    "import subprocess\n",
    "import zipfile\n",
    "\n",
    "def download_from_gdrive(gdrive_url, output_path):\n",
    "    try:\n",
    "        import gdown\n",
    "    except ImportError:\n",
    "        subprocess.check_call([sys.executable, \"-m\", \"pip\", \"install\", \"gdown\"])\n",
    "        import gdown\n",
    "    gdown.download(gdrive_url, output_path, quiet=False)\n",
    "\n",
    "GDRIVE_URL = \"https://drive.google.com/uc?id=1I6X9Zn0-ha3kINq4i_xn9112jDFPlnlK\"\n",
    "OUTPUT_PATH = \"/CORL/sim2real/BC-Go2JoystickFlatTerrain.zip\"\n",
    "if not os.path.exists(OUTPUT_PATH):\n",
    "    download_from_gdrive(GDRIVE_URL, OUTPUT_PATH)\n",
    "\n",
    "with zipfile.ZipFile(OUTPUT_PATH, 'r') as zip_ref:\n",
    "    zip_ref.extractall(\"/CORL/sim2real/\")"
   ]
  },
  {
   "cell_type": "code",
   "execution_count": 5,
   "id": "860f3183",
   "metadata": {},
   "outputs": [],
   "source": [
    "CHECKPOINT_PATH = \"/CORL/sim2real/BC-Go2JoystickFlatTerrain-d7c8b162\"\n",
    "ENV_NAME = \"Go2JoystickFlatTerrain\"\n",
    "\n",
    "N_EPISODES = 20\n",
    "RENDER = True\n",
    "SEED = 0"
   ]
  },
  {
   "cell_type": "code",
   "execution_count": 6,
   "id": "550a8c16",
   "metadata": {},
   "outputs": [],
   "source": [
    "with open(os.path.join(CHECKPOINT_PATH, \"config.yaml\")) as f:\n",
    "    config = yaml.safe_load(f)"
   ]
  },
  {
   "cell_type": "code",
   "execution_count": 7,
   "id": "e3b4f5fb",
   "metadata": {},
   "outputs": [
    {
     "name": "stdout",
     "output_type": "stream",
     "text": [
      "obs_shape: {'privileged_state': (123,), 'state': (48,)}\n",
      "Asymmetric observation space\n",
      "JITing reset and step\n",
      "Done JITing reset and step\n",
      "48 12 1.0\n"
     ]
    }
   ],
   "source": [
    "render_trajectory = []\n",
    "def render_callback(_, state):\n",
    "    render_trajectory.append(state)\n",
    "\n",
    "\n",
    "# Command type: foward, fowardfixed, direction\n",
    "# Foward: move forward with random velocity\n",
    "# Fowardfixed: move forward with fixed velocity\n",
    "# Direction: move in a specific direction\n",
    "env_wrapped = get_env(ENV_NAME, \"cuda\", render_callback, command_type=\"fowardfixed\")\n",
    "\n",
    "state_dim = env_wrapped.observation_space.shape[0] \n",
    "action_dim = env_wrapped.action_space.shape[0]\n",
    "max_action = 1.0\n",
    "\n",
    "print(state_dim, action_dim, max_action)"
   ]
  },
  {
   "cell_type": "code",
   "execution_count": 8,
   "id": "4b151902",
   "metadata": {},
   "outputs": [
    {
     "name": "stdout",
     "output_type": "stream",
     "text": [
      "[get_actor_from_checkpoint] Loaded actor device: cuda:0\n"
     ]
    }
   ],
   "source": [
    "actor = get_actor_from_checkpoint(checkpoint_path=CHECKPOINT_PATH, state_dim=state_dim, action_dim=action_dim, max_action=max_action)"
   ]
  },
  {
   "cell_type": "code",
   "execution_count": 9,
   "id": "f0e69119",
   "metadata": {},
   "outputs": [
    {
     "name": "stdout",
     "output_type": "stream",
     "text": [
      "Mean:  23.555313940507222\n",
      "Std:  8.132073290181596\n"
     ]
    }
   ],
   "source": [
    "episode_rewards = eval_actor(actor=actor, env=env_wrapped, device=config[\"device\"], n_episodes=N_EPISODES, seed=SEED, render=RENDER)\n",
    "print(\"Mean: \", episode_rewards.mean())\n",
    "print(\"Std: \", episode_rewards.std())"
   ]
  },
  {
   "cell_type": "code",
   "execution_count": 10,
   "id": "404724aa",
   "metadata": {},
   "outputs": [
    {
     "name": "stderr",
     "output_type": "stream",
     "text": [
      "/usr/local/lib/python3.10/dist-packages/glfw/__init__.py:917: GLFWError: (65550) b'X11: The DISPLAY environment variable is missing'\n",
      "  warnings.warn(message, GLFWError)\n",
      "/usr/local/lib/python3.10/dist-packages/glfw/__init__.py:917: GLFWError: (65537) b'The GLFW library is not initialized'\n",
      "  warnings.warn(message, GLFWError)\n",
      "100%|██████████████████████████████████████████████████████████████████████████████████████████████████████████████████████████████████| 8644/8644 [15:10<00:00,  9.49it/s]\n"
     ]
    }
   ],
   "source": [
    "timestamp = datetime.now().strftime(\"%Y%m%d-%H%M%S\")\n",
    "env_wrapped.save_video(render_trajectory, save_path=f\"{CHECKPOINT_PATH}/{ENV_NAME}-{timestamp}.mp4\")"
   ]
  }
 ],
 "metadata": {
  "kernelspec": {
   "display_name": "Python 3 (ipykernel)",
   "language": "python",
   "name": "python3"
  },
  "language_info": {
   "codemirror_mode": {
    "name": "ipython",
    "version": 3
   },
   "file_extension": ".py",
   "mimetype": "text/x-python",
   "name": "python",
   "nbconvert_exporter": "python",
   "pygments_lexer": "ipython3",
   "version": "3.10.12"
  }
 },
 "nbformat": 4,
 "nbformat_minor": 5
}
