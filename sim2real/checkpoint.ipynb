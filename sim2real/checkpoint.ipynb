{
 "cells": [
  {
   "cell_type": "code",
   "execution_count": null,
   "id": "a8347340",
   "metadata": {},
   "outputs": [],
   "source": [
    "import os \n",
    "import yaml\n",
    "import datetime\n",
    "import sys\n",
    "sys.path.append(\"..\")\n",
    "from algorithms.utils.wrapper_gym import get_env\n",
    "from algorithms.offline.any_percent_bc import get_actor_from_checkpoint, eval_actor\n"
   ]
  },
  {
   "cell_type": "code",
   "execution_count": null,
   "id": "dec89fb6",
   "metadata": {},
   "outputs": [],
   "source": [
    "import subprocess\n",
    "import zipfile\n",
    "\n",
    "def download_from_gdrive(gdrive_url, output_path):\n",
    "    try:\n",
    "        import gdown\n",
    "    except ImportError:\n",
    "        subprocess.check_call([sys.executable, \"-m\", \"pip\", \"install\", \"gdown\"])\n",
    "        import gdown\n",
    "    gdown.download(gdrive_url, output_path, quiet=False)\n",
    "\n",
    "GDRIVE_URL = \"https://drive.google.com/uc?id=1I6X9Zn0-ha3kINq4i_xn9112jDFPlnlK\"\n",
    "OUTPUT_PATH = \"BC-Go2JoystickFlatTerrain.zip\"\n",
    "if not os.path.exists(OUTPUT_PATH):\n",
    "    download_from_gdrive(GDRIVE_URL, OUTPUT_PATH)\n",
    "\n",
    "with zipfile.ZipFile(OUTPUT_PATH, 'r') as zip_ref:\n",
    "    zip_ref.extractall(\".\")"
   ]
  },
  {
   "cell_type": "code",
   "execution_count": null,
   "id": "860f3183",
   "metadata": {},
   "outputs": [],
   "source": [
    "CHECKPOINT_PATH = \"BC-Go2JoystickFlatTerrain-d7c8b162\"\n",
    "ENV_NAME = \"Go2JoystickFlatTerrain\"\n",
    "\n",
    "N_EPISODES = 20\n",
    "RENDER = True\n",
    "SEED = 0"
   ]
  },
  {
   "cell_type": "code",
   "execution_count": null,
   "id": "550a8c16",
   "metadata": {},
   "outputs": [],
   "source": [
    "with open(os.path.join(CHECKPOINT_PATH, \"config.yaml\")) as f:\n",
    "    config = yaml.safe_load(f)"
   ]
  },
  {
   "cell_type": "code",
   "execution_count": null,
   "id": "e3b4f5fb",
   "metadata": {},
   "outputs": [],
   "source": [
    "render_trajectory = []\n",
    "def render_callback(_, state):\n",
    "    render_trajectory.append(state)\n",
    "\n",
    "env_wrapped = get_env(ENV_NAME, \"cuda\", render_callback)\n",
    "\n",
    "state_dim = env_wrapped.observation_space.shape[0] \n",
    "action_dim = env_wrapped.action_space.shape[0]\n",
    "max_action = 1.0\n",
    "\n",
    "print(state_dim, action_dim, max_action)"
   ]
  },
  {
   "cell_type": "code",
   "execution_count": null,
   "id": "4b151902",
   "metadata": {},
   "outputs": [],
   "source": [
    "actor = get_actor_from_checkpoint(checkpoint_path=CHECKPOINT_PATH, state_dim=state_dim, action_dim=action_dim, max_action=max_action)"
   ]
  },
  {
   "cell_type": "code",
   "execution_count": null,
   "id": "404724aa",
   "metadata": {},
   "outputs": [],
   "source": [
    "episode_rewards = eval_actor(actor=actor, env=env_wrapped, device=config[\"device\"], n_episodes=N_EPISODES, seed=SEED, render=RENDER)\n",
    "print(\"Mean: \", episode_rewards.mean())\n",
    "print(\"Std: \", episode_rewards.std())\n",
    "\n",
    "timestamp = datetime.now().strftime(\"%Y%m%d-%H%M%S\")\n",
    "env_wrapped.save_video(render_trajectory, save_path=f\"{CHECKPOINT_PATH}/{ENV_NAME}-{timestamp}.mp4\")"
   ]
  }
 ],
 "metadata": {
  "kernelspec": {
   "display_name": "offlinerl",
   "language": "python",
   "name": "python3"
  },
  "language_info": {
   "codemirror_mode": {
    "name": "ipython",
    "version": 3
   },
   "file_extension": ".py",
   "mimetype": "text/x-python",
   "name": "python",
   "nbconvert_exporter": "python",
   "pygments_lexer": "ipython3",
   "version": "3.10.18"
  }
 },
 "nbformat": 4,
 "nbformat_minor": 5
}
